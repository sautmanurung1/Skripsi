{
 "cells": [
  {
   "cell_type": "code",
   "execution_count": 18,
   "metadata": {},
   "outputs": [
    {
     "name": "stdout",
     "output_type": "stream",
     "text": [
      "2    95\n",
      "1    85\n",
      "3    66\n",
      "Name: Cluster, dtype: int64\n"
     ]
    }
   ],
   "source": [
    "import pandas as pd\n",
    "import numpy as np\n",
    "from sklearn.metrics import pairwise_distances\n",
    "from sklearn_extra.cluster import KMedoids\n",
    "\n",
    "# Load data from CSV file\n",
    "data = pd.read_csv('Data Process.csv', sep=';')\n",
    "\n",
    "# Exclude the first data row\n",
    "data = data.iloc[1:]\n",
    "\n",
    "# Replace commas (,) with periods (.) and convert to float\n",
    "data['Peng Sem 1'] = data['Peng Sem 1'].str.replace(',', '.').astype(float)\n",
    "data['Peng Sem 2'] = data['Peng Sem 2'].str.replace(',', '.').astype(float)\n",
    "data['Ket Sem 1'] = data['Ket Sem 1'].str.replace(',', '.').astype(float)\n",
    "data['Ket Sem 2'] = data['Ket Sem 2'].str.replace(',', '.').astype(float)\n",
    "\n",
    "# Extract attributes from the data\n",
    "attributes = ['Nama', 'Peng Sem 1', 'Ket Sem 1', 'Peng Sem 2', 'Ket Sem 2']\n",
    "X = data[attributes].values\n",
    "\n",
    "# Perform pairwise distance calculation\n",
    "distances = pairwise_distances(X[:, 1:], metric='euclidean')\n",
    "\n",
    "# Function to calculate the total dissimilarity for a given medoid index\n",
    "def total_dissimilarity(index, medoids):\n",
    "    cluster_indices = np.where(medoids)[0]\n",
    "    cluster_points = X[cluster_indices]\n",
    "    cluster_distances = distances[cluster_indices][:, cluster_indices]\n",
    "    return sum(cluster_distances)\n",
    "\n",
    "# Function to find the best medoid with the lowest dissimilarity\n",
    "def find_best_medoid(cluster_points, cluster_indices):\n",
    "    best_medoid = None\n",
    "    best_dissimilarity = float('inf')\n",
    "    for i in range(len(cluster_points)):\n",
    "        dissimilarity = total_dissimilarity(i, cluster_indices)\n",
    "        if np.all(dissimilarity < best_dissimilarity):\n",
    "            best_medoid = cluster_indices[i]  # Update with cluster index\n",
    "            best_dissimilarity = dissimilarity\n",
    "    return best_medoid, best_dissimilarity\n",
    "\n",
    "# Perform K-Medoids clustering\n",
    "k = 3  # Number of clusters\n",
    "medoids_indices = KMedoids(n_clusters=k, random_state=0).fit_predict(distances)\n",
    "\n",
    "# Find the best medoid for each cluster\n",
    "medoids = []\n",
    "for cluster_id in range(k):\n",
    "    cluster_indices = np.where(medoids_indices == cluster_id)[0]\n",
    "    cluster_points = X[cluster_indices]\n",
    "    medoid_index, _ = find_best_medoid(cluster_points, cluster_indices)\n",
    "    medoids.append(medoid_index)\n",
    "\n",
    "# Retrieve all attributes from data\n",
    "all_attributes = X\n",
    "\n",
    "# Create a new DataFrame with cluster assignments\n",
    "cluster_data = pd.DataFrame(all_attributes, columns=attributes)\n",
    "cluster_data['Cluster'] = medoids_indices + 1\n",
    "\n",
    "# Save the DataFrame to a new CSV file\n",
    "cluster_data.to_csv('Clustered_Data.csv', index=False)\n",
    "cluster_counts = cluster_data['Cluster'].value_counts()\n",
    "print(cluster_counts)"
   ]
  },
  {
   "cell_type": "code",
   "execution_count": 19,
   "metadata": {},
   "outputs": [
    {
     "data": {
      "image/png": "[encoded data removed]",
      "text/plain": [
       "<Figure size 432x288 with 1 Axes>"
      ]
     },
     "metadata": {
      "needs_background": "light"
     },
     "output_type": "display_data"
    }
   ],
   "source": [
    "import matplotlib.pyplot as plt\n",
    "\n",
    "# Plotting the cluster counts\n",
    "plt.bar(cluster_counts.index, cluster_counts.values)\n",
    "plt.xlabel('Cluster')\n",
    "plt.ylabel('Count')\n",
    "plt.title('Cluster Counts')\n",
    "plt.show()"
   ]
  },
  {
   "cell_type": "code",
   "execution_count": 20,
   "metadata": {},
   "outputs": [
    {
     "data": {
      "image/png": "[encoded data removed]",
      "text/plain": [
       "<Figure size 432x288 with 1 Axes>"
      ]
     },
     "metadata": {
      "needs_background": "light"
     },
     "output_type": "display_data"
    }
   ],
   "source": [
    "import matplotlib.pyplot as plt\n",
    "\n",
    "# Generate scatter plot for cluster counts\n",
    "plt.scatter(cluster_counts.index, cluster_counts.values)\n",
    "plt.xlabel('Cluster')\n",
    "plt.ylabel('Count')\n",
    "plt.title('Cluster Counts')\n",
    "plt.show()"
   ]
  }
 ],
 "metadata": {
  "kernelspec": {
   "display_name": "Python 3",
   "language": "python",
   "name": "python3"
  },
  "language_info": {
   "codemirror_mode": {
    "name": "ipython",
    "version": 3
   },
   "file_extension": ".py",
   "mimetype": "text/x-python",
   "name": "python",
   "nbconvert_exporter": "python",
   "pygments_lexer": "ipython3",
   "version": "3.9.7"
  },
  "orig_nbformat": 4
 },
 "nbformat": 4,
 "nbformat_minor": 2
}
